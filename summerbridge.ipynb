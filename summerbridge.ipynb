{
 "cells": [
  {
   "cell_type": "code",
   "execution_count": null,
   "id": "41657f08-1a95-45c1-bc08-0947b50d30a8",
   "metadata": {},
   "outputs": [],
   "source": [
    "3 + 7"
   ]
  },
  {
   "cell_type": "code",
   "execution_count": null,
   "id": "b6ee97c3-7346-41c2-9241-5607187089c6",
   "metadata": {},
   "outputs": [],
   "source": [
    "print(\"hello\")"
   ]
  },
  {
   "cell_type": "code",
   "execution_count": null,
   "id": "d66cef39-5dca-4655-8017-daba2936dcd5",
   "metadata": {},
   "outputs": [],
   "source": [
    "print(7)"
   ]
  },
  {
   "cell_type": "code",
   "execution_count": null,
   "id": "ccafbd63-179c-4c0c-9e0f-d50f28d65414",
   "metadata": {},
   "outputs": [],
   "source": [
    "name = \"Derek\"\n",
    "age = 42"
   ]
  },
  {
   "cell_type": "code",
   "execution_count": null,
   "id": "9cc10f3a-3bbd-4ed5-922d-b84ae8e3f95b",
   "metadata": {},
   "outputs": [],
   "source": [
    "print(age)"
   ]
  },
  {
   "cell_type": "code",
   "execution_count": null,
   "id": "278d6f35-35df-4a32-9782-4c475d3355c9",
   "metadata": {},
   "outputs": [],
   "source": [
    "# This is a comment. It will not run \n",
    "# You can echo values without using print in this notebook\n",
    "name"
   ]
  },
  {
   "cell_type": "markdown",
   "id": "9a866d74-5e90-4cad-bacd-fee324c5c814",
   "metadata": {},
   "source": [
    "# Variables and values"
   ]
  },
  {
   "cell_type": "code",
   "execution_count": null,
   "id": "de8ae330-a9ff-4f27-9525-bb19c9a38f42",
   "metadata": {},
   "outputs": [],
   "source": [
    "# Variables can be used in calculations\n",
    "print(age)\n",
    "age = age + 3\n",
    "print(age)"
   ]
  },
  {
   "cell_type": "code",
   "execution_count": null,
   "id": "ea3bf884-b581-4b55-8455-154b5cdb3b67",
   "metadata": {},
   "outputs": [],
   "source": [
    "# Order of operations matters!\n",
    "first = 1\n",
    "second = first*5\n",
    "first = 2\n",
    "print(first)\n",
    "print(second)"
   ]
  },
  {
   "cell_type": "code",
   "execution_count": null,
   "id": "b9b41d65-fde9-4d99-a994-46a43617dfe5",
   "metadata": {},
   "outputs": [],
   "source": [
    "# Values have types. Types affect what you can do with them. \n",
    "print(5-3)\n",
    "#print(\"hello\" - \"h\")"
   ]
  },
  {
   "cell_type": "code",
   "execution_count": null,
   "id": "a02540fe-d8ab-4e35-a38d-dc347befd570",
   "metadata": {},
   "outputs": [],
   "source": [
    "print(len(\"hello\"))\n",
    "#print(len(6))"
   ]
  },
  {
   "cell_type": "markdown",
   "id": "99f14054-6d0c-4541-b7d6-815e5c13ae02",
   "metadata": {},
   "source": [
    "## Challenge \n",
    "Explain what each operator does \n",
    "\n",
    "print(5 // 3)\n",
    "\n",
    "print(5 / 3)\n",
    "\n",
    "print(5 % 3)"
   ]
  },
  {
   "cell_type": "code",
   "execution_count": null,
   "id": "29698e7d-1cfc-43e8-80fc-8351a5bf56c6",
   "metadata": {},
   "outputs": [],
   "source": [
    "print(5//3)\n",
    "print(5/3)\n",
    "print(5%3)"
   ]
  },
  {
   "cell_type": "markdown",
   "id": "b0a6f0a2-9d3f-4dbe-9bf8-95e66f640ee1",
   "metadata": {},
   "source": [
    "# Getting help"
   ]
  },
  {
   "cell_type": "code",
   "execution_count": null,
   "id": "7b8170ea-84c6-4e29-81a0-1cdae78aae78",
   "metadata": {},
   "outputs": [],
   "source": [
    "# Rounding numbers is built in\n",
    "round(3.14159)"
   ]
  },
  {
   "cell_type": "code",
   "execution_count": null,
   "id": "2c6c3ba7-6afa-4c17-a4c5-10923f5e25f7",
   "metadata": {},
   "outputs": [],
   "source": [
    "round(3.14159, 2)"
   ]
  },
  {
   "cell_type": "code",
   "execution_count": null,
   "id": "938338a2-6886-405f-9c2b-cb20493da51d",
   "metadata": {},
   "outputs": [],
   "source": [
    "help(round)"
   ]
  },
  {
   "cell_type": "code",
   "execution_count": null,
   "id": "f7c7d1dd-e328-4503-8875-acaf9cacdd3f",
   "metadata": {},
   "outputs": [],
   "source": [
    "round(3.14159, ndigits = 2)"
   ]
  },
  {
   "cell_type": "code",
   "execution_count": null,
   "id": "e9c6746e-7e4e-427b-8e96-3efb4941d696",
   "metadata": {},
   "outputs": [],
   "source": [
    "# All functions return a new value\n",
    "rounded_pi = round(3.14159, 2)\n",
    "print(rounded_pi)"
   ]
  },
  {
   "cell_type": "markdown",
   "id": "5aa123e3-42f8-4e67-8172-8a7c3f7dcd7d",
   "metadata": {},
   "source": [
    "## Challenge\n",
    "\n",
    "In what order do the operations happen?\n",
    "\n",
    "radiance = 1.0\n",
    "\n",
    "radiance = max(2.1, 2.0 + min(radiance, 1.1 * radiance - 0.5))"
   ]
  },
  {
   "cell_type": "code",
   "execution_count": null,
   "id": "5996470f-68da-4c32-9cd4-1819e9c09360",
   "metadata": {},
   "outputs": [],
   "source": [
    "radiance = 1.0\n",
    "print(radiance*1.1-0.5)\n",
    "radiance = max(2.1, 2.0 + min(radiance, 1.1 * radiance - 0.5))\n",
    "print(radiance)"
   ]
  },
  {
   "cell_type": "code",
   "execution_count": null,
   "id": "9e3b8bda-39fb-4d8e-9253-140569f569a5",
   "metadata": {},
   "outputs": [],
   "source": [
    "help(min)"
   ]
  },
  {
   "cell_type": "code",
   "execution_count": null,
   "id": "45d1689f-db9b-492e-b523-45f4c509caf7",
   "metadata": {},
   "outputs": [],
   "source": [
    "# Break down these operations\n",
    "radiance = 1.0 \n",
    "\n",
    "min_arg_2 = 1.1 * radiance - 0.5\n",
    "print(\"Min arg 2:\", min_arg_2)\n",
    "\n",
    "min_result = min(radiance, min_arg_2)\n",
    "print(\"Min result:\", min_result)\n",
    "\n",
    "radiance = max(2.1, 2.0 + min_result)\n",
    "print(radiance)"
   ]
  },
  {
   "cell_type": "markdown",
   "id": "45529255-0fdc-4144-bf01-1016cd126b11",
   "metadata": {},
   "source": [
    "# A Brief Interlude with Git"
   ]
  },
  {
   "cell_type": "code",
   "execution_count": null,
   "id": "df0b20ab-5eba-4a3d-a690-d4f1b8eabf4b",
   "metadata": {},
   "outputs": [],
   "source": []
  }
 ],
 "metadata": {
  "kernelspec": {
   "display_name": "Python 3",
   "language": "python",
   "name": "python3"
  },
  "language_info": {
   "codemirror_mode": {
    "name": "ipython",
    "version": 3
   },
   "file_extension": ".py",
   "mimetype": "text/x-python",
   "name": "python",
   "nbconvert_exporter": "python",
   "pygments_lexer": "ipython3",
   "version": "3.8.8"
  }
 },
 "nbformat": 4,
 "nbformat_minor": 5
}
