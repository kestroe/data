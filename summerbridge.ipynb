{
 "cells": [
  {
   "cell_type": "code",
   "execution_count": null,
   "id": "41657f08-1a95-45c1-bc08-0947b50d30a8",
   "metadata": {},
   "outputs": [],
   "source": [
    "3 + 7"
   ]
  },
  {
   "cell_type": "code",
   "execution_count": null,
   "id": "b6ee97c3-7346-41c2-9241-5607187089c6",
   "metadata": {},
   "outputs": [],
   "source": [
    "print(\"hello\")"
   ]
  },
  {
   "cell_type": "code",
   "execution_count": null,
   "id": "d66cef39-5dca-4655-8017-daba2936dcd5",
   "metadata": {},
   "outputs": [],
   "source": [
    "print(7)"
   ]
  },
  {
   "cell_type": "code",
   "execution_count": null,
   "id": "ccafbd63-179c-4c0c-9e0f-d50f28d65414",
   "metadata": {},
   "outputs": [],
   "source": [
    "name = \"Derek\"\n",
    "age = 42"
   ]
  },
  {
   "cell_type": "code",
   "execution_count": null,
   "id": "9cc10f3a-3bbd-4ed5-922d-b84ae8e3f95b",
   "metadata": {},
   "outputs": [],
   "source": [
    "print(age)"
   ]
  },
  {
   "cell_type": "code",
   "execution_count": null,
   "id": "278d6f35-35df-4a32-9782-4c475d3355c9",
   "metadata": {},
   "outputs": [],
   "source": [
    "# This is a comment. It will not run \n",
    "# You can echo values without using print in this notebook\n",
    "name"
   ]
  },
  {
   "cell_type": "markdown",
   "id": "9a866d74-5e90-4cad-bacd-fee324c5c814",
   "metadata": {},
   "source": [
    "# Variables and values"
   ]
  },
  {
   "cell_type": "code",
   "execution_count": null,
   "id": "de8ae330-a9ff-4f27-9525-bb19c9a38f42",
   "metadata": {},
   "outputs": [],
   "source": [
    "# Variables can be used in calculations\n",
    "print(age)\n",
    "age = age + 3\n",
    "print(age)"
   ]
  },
  {
   "cell_type": "code",
   "execution_count": null,
   "id": "ea3bf884-b581-4b55-8455-154b5cdb3b67",
   "metadata": {},
   "outputs": [],
   "source": [
    "# Order of operations matters!\n",
    "first = 1\n",
    "second = first*5\n",
    "first = 2\n",
    "print(first)\n",
    "print(second)"
   ]
  },
  {
   "cell_type": "code",
   "execution_count": null,
   "id": "b9b41d65-fde9-4d99-a994-46a43617dfe5",
   "metadata": {},
   "outputs": [],
   "source": [
    "# Values have types. Types affect what you can do with them. \n",
    "print(5-3)\n",
    "#print(\"hello\" - \"h\")"
   ]
  },
  {
   "cell_type": "code",
   "execution_count": null,
   "id": "a02540fe-d8ab-4e35-a38d-dc347befd570",
   "metadata": {},
   "outputs": [],
   "source": [
    "print(len(\"hello\"))\n",
    "#print(len(6))"
   ]
  },
  {
   "cell_type": "markdown",
   "id": "99f14054-6d0c-4541-b7d6-815e5c13ae02",
   "metadata": {},
   "source": [
    "## Challenge \n",
    "Explain what each operator does \n",
    "\n",
    "print(5 // 3)\n",
    "\n",
    "print(5 / 3)\n",
    "\n",
    "print(5 % 3)"
   ]
  },
  {
   "cell_type": "code",
   "execution_count": null,
   "id": "29698e7d-1cfc-43e8-80fc-8351a5bf56c6",
   "metadata": {},
   "outputs": [],
   "source": [
    "print(5//3)\n",
    "print(5/3)\n",
    "print(5%3)"
   ]
  },
  {
   "cell_type": "markdown",
   "id": "b0a6f0a2-9d3f-4dbe-9bf8-95e66f640ee1",
   "metadata": {},
   "source": [
    "# Getting help"
   ]
  },
  {
   "cell_type": "code",
   "execution_count": null,
   "id": "7b8170ea-84c6-4e29-81a0-1cdae78aae78",
   "metadata": {},
   "outputs": [],
   "source": [
    "# Rounding numbers is built in\n",
    "round(3.14159)"
   ]
  },
  {
   "cell_type": "code",
   "execution_count": null,
   "id": "2c6c3ba7-6afa-4c17-a4c5-10923f5e25f7",
   "metadata": {},
   "outputs": [],
   "source": [
    "round(3.14159, 2)"
   ]
  },
  {
   "cell_type": "code",
   "execution_count": null,
   "id": "938338a2-6886-405f-9c2b-cb20493da51d",
   "metadata": {},
   "outputs": [],
   "source": [
    "help(round)"
   ]
  },
  {
   "cell_type": "code",
   "execution_count": null,
   "id": "f7c7d1dd-e328-4503-8875-acaf9cacdd3f",
   "metadata": {},
   "outputs": [],
   "source": [
    "round(3.14159, ndigits = 2)"
   ]
  },
  {
   "cell_type": "code",
   "execution_count": null,
   "id": "e9c6746e-7e4e-427b-8e96-3efb4941d696",
   "metadata": {},
   "outputs": [],
   "source": [
    "# All functions return a new value\n",
    "rounded_pi = round(3.14159, 2)\n",
    "print(rounded_pi)"
   ]
  },
  {
   "cell_type": "markdown",
   "id": "5aa123e3-42f8-4e67-8172-8a7c3f7dcd7d",
   "metadata": {},
   "source": [
    "## Challenge\n",
    "\n",
    "In what order do the operations happen?\n",
    "\n",
    "radiance = 1.0\n",
    "\n",
    "radiance = max(2.1, 2.0 + min(radiance, 1.1 * radiance - 0.5))"
   ]
  },
  {
   "cell_type": "code",
   "execution_count": null,
   "id": "5996470f-68da-4c32-9cd4-1819e9c09360",
   "metadata": {},
   "outputs": [],
   "source": [
    "radiance = 1.0\n",
    "print(radiance*1.1-0.5)\n",
    "radiance = max(2.1, 2.0 + min(radiance, 1.1 * radiance - 0.5))\n",
    "print(radiance)"
   ]
  },
  {
   "cell_type": "code",
   "execution_count": null,
   "id": "9e3b8bda-39fb-4d8e-9253-140569f569a5",
   "metadata": {},
   "outputs": [],
   "source": [
    "help(min)"
   ]
  },
  {
   "cell_type": "code",
   "execution_count": null,
   "id": "45d1689f-db9b-492e-b523-45f4c509caf7",
   "metadata": {
    "jupyter": {
     "source_hidden": true
    },
    "tags": []
   },
   "outputs": [],
   "source": [
    "# Break down these operations\n",
    "radiance = 1.0 \n",
    "\n",
    "min_arg_2 = 1.1 * radiance - 0.5\n",
    "print(\"Min arg 2:\", min_arg_2)\n",
    "\n",
    "min_result = min(radiance, min_arg_2)\n",
    "print(\"Min result:\", min_result)\n",
    "\n",
    "radiance = max(2.1, 2.0 + min_result)\n",
    "print(radiance)"
   ]
  },
  {
   "cell_type": "markdown",
   "id": "45529255-0fdc-4144-bf01-1016cd126b11",
   "metadata": {},
   "source": [
    "# A Brief Interlude with Git"
   ]
  },
  {
   "cell_type": "markdown",
   "id": "fd4d0a42-e8ed-4ea8-a84b-0a313d177bba",
   "metadata": {},
   "source": [
    "# Libraries"
   ]
  },
  {
   "cell_type": "code",
   "execution_count": null,
   "id": "b7fd7a7f-fcad-4c1a-beb2-081946681a92",
   "metadata": {},
   "outputs": [],
   "source": [
    "import math"
   ]
  },
  {
   "cell_type": "code",
   "execution_count": null,
   "id": "9f53903b-933f-46f1-b895-6555d296655d",
   "metadata": {},
   "outputs": [],
   "source": [
    "math.pi"
   ]
  },
  {
   "cell_type": "code",
   "execution_count": null,
   "id": "ab4ee05d-971a-48e7-8295-3b0d8f325670",
   "metadata": {},
   "outputs": [],
   "source": [
    "print(math.pi)\n",
    "print(math.cos(math.pi))"
   ]
  },
  {
   "cell_type": "code",
   "execution_count": null,
   "id": "196017cd-24f9-42c2-bb0c-cf578292c74e",
   "metadata": {},
   "outputs": [],
   "source": [
    "# get complete help with help()\n",
    "#help(math)\n",
    "\n",
    "# get a list of options with dir()\n",
    "print(dir(math))"
   ]
  },
  {
   "cell_type": "markdown",
   "id": "8bde90f4-ab5f-48dd-b706-7b612cc875dc",
   "metadata": {},
   "source": [
    "# List"
   ]
  },
  {
   "cell_type": "code",
   "execution_count": null,
   "id": "f8faed51-9f7f-41dd-b836-96e15c6bdcb5",
   "metadata": {},
   "outputs": [],
   "source": [
    "# A list is an ordered collection of stuff\n",
    "fruits = [\"apple\", \"banana\", \"cherry\", \"date\", \"elderberry\", \"fig\" ]"
   ]
  },
  {
   "cell_type": "code",
   "execution_count": null,
   "id": "2ac4b4db-ecf9-4339-8791-267169f1cbff",
   "metadata": {},
   "outputs": [],
   "source": [
    "fruits"
   ]
  },
  {
   "cell_type": "code",
   "execution_count": null,
   "id": "f17eb08c-7f7c-4b9c-8749-813119118b11",
   "metadata": {},
   "outputs": [],
   "source": [
    "len(fruits)"
   ]
  },
  {
   "cell_type": "code",
   "execution_count": null,
   "id": "8fe0b48b-dc2a-4df7-92d7-c829651e48c6",
   "metadata": {},
   "outputs": [],
   "source": [
    "# Lists are indexed by position, counting from 0\n",
    "# First item\n",
    "print(fruits[0])\n",
    "\n",
    "#Fifth item\n",
    "print(fruits[4])"
   ]
  },
  {
   "cell_type": "code",
   "execution_count": null,
   "id": "83d5432a-455d-4703-b02b-00200ddf33db",
   "metadata": {},
   "outputs": [],
   "source": [
    "# Get subsets by slicing the list\n",
    "# Get the first 3 items\n",
    "# up to but not including the fourth item, indexed at 3\n",
    "fruits[0:3]"
   ]
  },
  {
   "cell_type": "code",
   "execution_count": null,
   "id": "5f9c3c61-ba37-45c7-9df3-f9f25df04143",
   "metadata": {},
   "outputs": [],
   "source": [
    "fruits[2:5]"
   ]
  },
  {
   "cell_type": "code",
   "execution_count": null,
   "id": "68169a9b-cf8c-4736-8191-9be69421a88d",
   "metadata": {},
   "outputs": [],
   "source": [
    "# Get items by step\n",
    "# GEt the first 5 items, every other item\n",
    "fruits[0:5:2]"
   ]
  },
  {
   "cell_type": "code",
   "execution_count": null,
   "id": "662cdaf1-58a4-4d55-8425-26312a48c78b",
   "metadata": {},
   "outputs": [],
   "source": [
    "# Get first 5 items, every 3rd item\n",
    "fruits[0:5:3]"
   ]
  },
  {
   "cell_type": "code",
   "execution_count": null,
   "id": "b4a78f9e-3ce1-4ed2-b7ce-f380f701d7fc",
   "metadata": {},
   "outputs": [],
   "source": [
    "print(len(fruits))"
   ]
  },
  {
   "cell_type": "markdown",
   "id": "1598f0ab-362c-42d5-a4d8-c1efd3211642",
   "metadata": {},
   "source": [
    "# Challenge\n",
    "\n",
    "What are the following statements doing?\n",
    "\n",
    "fruits[-1]\n",
    "\n",
    "fruits[20]\n",
    "\n",
    "fruits[-3:]"
   ]
  },
  {
   "cell_type": "code",
   "execution_count": null,
   "id": "57f4f089-126a-4b7d-bcf8-8540c0dbd71b",
   "metadata": {},
   "outputs": [],
   "source": [
    "print(fruits[-1])\n",
    "#print(fruits[20])\n",
    "print(fruits[-3:])"
   ]
  },
  {
   "cell_type": "code",
   "execution_count": null,
   "id": "f7eba567-37fc-4c8e-8ee7-32673173c4c7",
   "metadata": {},
   "outputs": [],
   "source": [
    "#Why are lists indexed this way?\n",
    "print(fruits[:2])\n",
    "print(fruits[2:])\n",
    "\n",
    "print(len(fruits[1:3]))"
   ]
  },
  {
   "cell_type": "markdown",
   "id": "0b39d9e8-a178-4a9e-be4c-ccbd9e30fc99",
   "metadata": {},
   "source": [
    "# Adding stuff to lists"
   ]
  },
  {
   "cell_type": "code",
   "execution_count": null,
   "id": "27939610-3b0c-4cfa-9d8f-1d780cfd1870",
   "metadata": {},
   "outputs": [],
   "source": [
    "#Update a specific item\n",
    "print(fruits)\n",
    "\n",
    "fruits[0] = \"apricot\"\n",
    "print(fruits)"
   ]
  },
  {
   "cell_type": "code",
   "execution_count": null,
   "id": "2c42b03b-97dc-4249-801b-bfca0dbe5e25",
   "metadata": {},
   "outputs": [],
   "source": [
    "# Add new items to the list \n",
    "fruits.append(\"grape\")\n",
    "\n",
    "print(fruits)"
   ]
  },
  {
   "cell_type": "code",
   "execution_count": null,
   "id": "0b93cf34-57d1-4d5c-bcd4-124db8a17cb4",
   "metadata": {},
   "outputs": [],
   "source": [
    "# Add items from a second list to the first list\n",
    "more_fruits = [\"honeydew\", \"imbe\", \"jackfruit\"]\n",
    "fruits.extend(more_fruits)\n",
    "\n",
    "print(fruits)"
   ]
  },
  {
   "cell_type": "code",
   "execution_count": null,
   "id": "2b60cd95-6541-450d-a512-2e1af26f7270",
   "metadata": {},
   "outputs": [],
   "source": [
    "# Many functions operate on collections\n",
    "# Assessing our wide receiving corp\n",
    "receiving_yards = [450, 370, 870, 150]\n",
    "\n",
    "mean_yards = sum(receiving_yards)/len(receiving_yards)\n",
    "print(mean_yards)"
   ]
  },
  {
   "cell_type": "markdown",
   "id": "57e3f223-fe18-4bd2-af96-d6a9b0f69218",
   "metadata": {},
   "source": [
    "# For loops"
   ]
  },
  {
   "cell_type": "code",
   "execution_count": null,
   "id": "26ea5d4b-3609-4eac-b603-78933b5f1279",
   "metadata": {},
   "outputs": [],
   "source": [
    "for fruit in fruits:\n",
    "    print(fruit)"
   ]
  },
  {
   "cell_type": "code",
   "execution_count": null,
   "id": "f25b5ce2-cb06-406c-bf40-29cdbdaadb7e",
   "metadata": {},
   "outputs": [],
   "source": [
    "for bob in fruits:\n",
    "    print(bob)"
   ]
  },
  {
   "cell_type": "code",
   "execution_count": null,
   "id": "f8340e99-191b-41f9-8385-7995667445ef",
   "metadata": {},
   "outputs": [],
   "source": [
    "# Code blockscan contain many statements\n",
    "primes = [2, 3, 5]\n",
    "for p in primes:\n",
    "    squared = p ** 2\n",
    "    cubed = p ** 3\n",
    "    print(p, squared, cubed)"
   ]
  },
  {
   "cell_type": "code",
   "execution_count": null,
   "id": "c5eae481-6d18-4d49-9536-7d85dd558027",
   "metadata": {},
   "outputs": [],
   "source": [
    "# Create a new collection from an existing collection\n",
    "primes_squared = []\n",
    "for p in primes:\n",
    "    primes_squared.append(p ** 2)\n",
    "    \n",
    "print(primes_squared)"
   ]
  },
  {
   "cell_type": "markdown",
   "id": "ef4fe2e8-0cf1-4fa1-a710-4f3ef00b7db6",
   "metadata": {},
   "source": [
    "## Challenge\n",
    "\n",
    "Get the total length of all the items in the fruits list."
   ]
  },
  {
   "cell_type": "code",
   "execution_count": null,
   "id": "99c913f7-00a6-48ea-ab59-f098276c71e9",
   "metadata": {},
   "outputs": [],
   "source": [
    "# My attempt until time went out\n",
    "# fruit_\n",
    "# for fruit in fruits:\n",
    "    # fruit_length = len(fruit)"
   ]
  },
  {
   "cell_type": "code",
   "execution_count": null,
   "id": "eb0bf187-5485-4724-8b69-7618b2b6b3c6",
   "metadata": {},
   "outputs": [],
   "source": [
    "# Solution 1\n",
    "fruit_lengths = []\n",
    "for f in fruits:\n",
    "    fruit_lengths.append(len(f))\n",
    "    \n",
    "print(fruit_lengths)\n",
    "print(sum(fruit_lengths))"
   ]
  },
  {
   "cell_type": "code",
   "execution_count": null,
   "id": "dabeca90-5c91-41a7-b2c9-2450e4a0debc",
   "metadata": {},
   "outputs": [],
   "source": [
    "# Solution 2\n",
    "count = 0\n",
    "for f in fruits: \n",
    "    count = count + len(f)\n",
    "    print(count)\n",
    "    \n",
    "print(\"Final count\", count)"
   ]
  },
  {
   "cell_type": "code",
   "execution_count": null,
   "id": "1aa67398-3733-4e17-b7c7-0608eba41f21",
   "metadata": {},
   "outputs": [],
   "source": [
    "# Generator comprehension\n",
    "sum(len(f) for f in fruits)"
   ]
  },
  {
   "cell_type": "code",
   "execution_count": null,
   "id": "f46ca944-b85a-4c10-a38e-14e825892861",
   "metadata": {},
   "outputs": [],
   "source": [
    "len(\"\".join(fruits))"
   ]
  },
  {
   "cell_type": "code",
   "execution_count": null,
   "id": "a41b6669-5eee-407d-bf0e-b82c0346fbcc",
   "metadata": {},
   "outputs": [],
   "source": [
    "print(\"  \".join(fruits))"
   ]
  },
  {
   "cell_type": "code",
   "execution_count": null,
   "id": "2fbef714-fc03-4b48-8efe-341bfdc1f93f",
   "metadata": {},
   "outputs": [],
   "source": [
    "# Text join\n",
    "joined_fruits = \"\".join(fruits)\n",
    "print(joined_fruits)\n",
    "print(len(joined_fruits))"
   ]
  },
  {
   "cell_type": "markdown",
   "id": "4c67193e-820f-4559-a0f5-870c12e6d2e5",
   "metadata": {},
   "source": [
    "# Linear Algebra with NumPy"
   ]
  },
  {
   "cell_type": "code",
   "execution_count": null,
   "id": "d8216b77-3793-4e90-974d-aa75461a6bc1",
   "metadata": {},
   "outputs": [],
   "source": [
    "import numpy as np"
   ]
  },
  {
   "cell_type": "code",
   "execution_count": null,
   "id": "82a9e976-482f-47dd-bbd9-dab7db35fb8a",
   "metadata": {},
   "outputs": [],
   "source": [
    "# Create an array of random numbers\n",
    "m_rand = np.random.rand(3,4)\n",
    "print(m_rand)"
   ]
  },
  {
   "cell_type": "code",
   "execution_count": null,
   "id": "039a90d4-4911-438d-910e-d99db6401b07",
   "metadata": {},
   "outputs": [],
   "source": [
    "#index by row, column\n",
    "m_rand[0,0]"
   ]
  },
  {
   "cell_type": "code",
   "execution_count": null,
   "id": "5cad2e4c-8a05-4c12-aeb8-4a01dfc97e7f",
   "metadata": {},
   "outputs": [],
   "source": [
    "m_rand[0,1]"
   ]
  },
  {
   "cell_type": "code",
   "execution_count": null,
   "id": "18a7e594-7ca2-4868-8367-dd45306f53bc",
   "metadata": {},
   "outputs": [],
   "source": [
    "# Arrays have attributes\n",
    "print(m_rand.shape)\n",
    "print(m_rand.size)\n",
    "print(m_rand.ndim)"
   ]
  },
  {
   "cell_type": "code",
   "execution_count": null,
   "id": "19e74038-4331-40d7-adfd-9f14262b39c6",
   "metadata": {},
   "outputs": [],
   "source": [
    "# Linear algebra with Numpy\n",
    "x = np.arange(9)\n",
    "y = np.arange(9)\n",
    "\n",
    "print(x)\n",
    "print(y)"
   ]
  },
  {
   "cell_type": "code",
   "execution_count": null,
   "id": "f713e7aa-f58e-4c8c-88f8-0b5f0a142681",
   "metadata": {},
   "outputs": [],
   "source": [
    "x * y"
   ]
  },
  {
   "cell_type": "code",
   "execution_count": null,
   "id": "2d47b6ad-3c09-4806-8f14-d1b5cc98cd9f",
   "metadata": {},
   "outputs": [],
   "source": [
    "# Matrix-wise operations if you like\n",
    "x @ y"
   ]
  },
  {
   "cell_type": "code",
   "execution_count": null,
   "id": "eda157d8-13fe-4f9f-907f-939ddfbb800a",
   "metadata": {},
   "outputs": [],
   "source": [
    "# You can reshape arrays\n",
    "x1 = x.reshape(3,3)\n",
    "x2 = x.reshape(9,1)\n",
    "\n",
    "print(x)\n",
    "print(x1)\n",
    "print(x2)"
   ]
  },
  {
   "cell_type": "markdown",
   "id": "4d480812-f7bc-4d4b-a325-cc172f28c38b",
   "metadata": {},
   "source": [
    "## Challenge\n",
    "\n",
    "1. Create a 3 x 3 array containing the number 0-8\n",
    "2. Multiply the array by itself (elementwise)\n",
    "3. Multuply the array by its transpose\n",
    "4. Divide the array by itself"
   ]
  },
  {
   "cell_type": "code",
   "execution_count": null,
   "id": "16d93aab-82f6-4b3d-8add-fba5d21e4063",
   "metadata": {},
   "outputs": [],
   "source": [
    "# my attempt, creating a new variable for the array\n",
    "ay = np.arange(9)\n",
    "ay_1 = ay.reshape(3,3)\n",
    "print(\"1. \", ay_1)\n",
    "print(\"2. \", ay_1*ay_1)\n",
    "print(\"3. \", ay_1.T*ay_1)\n",
    "# invalid due to missing values\n",
    "# print(\"4. \", ay_1 / ay_1)"
   ]
  },
  {
   "cell_type": "code",
   "execution_count": null,
   "id": "ee46218f-c62f-43bb-8649-42917eb358a2",
   "metadata": {},
   "outputs": [],
   "source": [
    "# Use method chaining to do more work on one line\n",
    "demo = np.arange(9).reshape(3,3)\n",
    "print(demo)"
   ]
  },
  {
   "cell_type": "code",
   "execution_count": null,
   "id": "9402450e-dab4-426d-bc5c-37cf8bafb75e",
   "metadata": {},
   "outputs": [],
   "source": [
    "demo * demo"
   ]
  },
  {
   "cell_type": "code",
   "execution_count": null,
   "id": "5f1cdbb3-d56e-4e00-bd95-fd85dd206eb0",
   "metadata": {},
   "outputs": [],
   "source": [
    "# Get transpose, method 1\n",
    "demo * demo.T"
   ]
  },
  {
   "cell_type": "code",
   "execution_count": null,
   "id": "2144dd99-ff69-4edf-9377-09697c435b62",
   "metadata": {},
   "outputs": [],
   "source": [
    "# Get transpose, method 2\n",
    "demo * np.transpose(demo)"
   ]
  },
  {
   "cell_type": "code",
   "execution_count": null,
   "id": "3b8d9995-43be-45f9-be66-641a58c6b24b",
   "metadata": {},
   "outputs": [],
   "source": []
  },
  {
   "cell_type": "raw",
   "id": "e8c49951-1e73-41be-9810-3fa4341352b6",
   "metadata": {},
   "source": [
    "# invalid due to missing values\n",
    "# demo / demo"
   ]
  },
  {
   "cell_type": "markdown",
   "id": "59b6c1a8-31f0-4a8e-a0fa-138a766f270a",
   "metadata": {},
   "source": [
    "# Working with data in Pandas"
   ]
  },
  {
   "cell_type": "code",
   "execution_count": null,
   "id": "98a92888-f17f-4aac-a3f4-f7ce16c0f539",
   "metadata": {},
   "outputs": [],
   "source": [
    "import pandas as pd"
   ]
  },
  {
   "cell_type": "code",
   "execution_count": null,
   "id": "1f448a9c-577a-4807-a6c4-66a75d733176",
   "metadata": {},
   "outputs": [],
   "source": [
    "data = pd.read_csv(\"gapminder_gdp_oceania.csv\")\n",
    "print(data)"
   ]
  },
  {
   "cell_type": "code",
   "execution_count": null,
   "id": "06bfde68-18f5-4c6e-932f-975a6758e084",
   "metadata": {},
   "outputs": [],
   "source": [
    "data"
   ]
  },
  {
   "cell_type": "code",
   "execution_count": null,
   "id": "196a335b-ed85-43d3-86d4-72f9284d28a8",
   "metadata": {},
   "outputs": [],
   "source": [
    "# Import csv and index by country name\n",
    "data = pd.read_csv(\"gapminder_gdp_oceania.csv\", index_col = \"country\")"
   ]
  },
  {
   "cell_type": "code",
   "execution_count": null,
   "id": "000f17e3-d3f5-4103-939c-980ad41abf80",
   "metadata": {},
   "outputs": [],
   "source": [
    "data"
   ]
  },
  {
   "cell_type": "code",
   "execution_count": null,
   "id": "9d4af93e-fb94-48d7-8513-05f548b8698e",
   "metadata": {},
   "outputs": [],
   "source": [
    "import this"
   ]
  },
  {
   "cell_type": "code",
   "execution_count": null,
   "id": "228308ff-f891-42a6-b55e-5bce71901f6c",
   "metadata": {},
   "outputs": [],
   "source": [
    "# Data frames have attributes\n",
    "print(data.index)\n",
    "print(data.columns)\n",
    "print(data.shape)"
   ]
  },
  {
   "cell_type": "code",
   "execution_count": null,
   "id": "4bce8bed-53d4-4f50-8e9a-8a622d9c856e",
   "metadata": {},
   "outputs": [],
   "source": [
    "# Data frames can tell you about their contents\n",
    "data.info()"
   ]
  },
  {
   "cell_type": "code",
   "execution_count": null,
   "id": "94ed2150-22ef-418c-b45a-b586be5656e6",
   "metadata": {},
   "outputs": [],
   "source": [
    "# Get descriptive statistics\n",
    "data.describe()"
   ]
  },
  {
   "cell_type": "code",
   "execution_count": null,
   "id": "9e9a711d-2001-49a9-bbc9-f0a850140094",
   "metadata": {},
   "outputs": [],
   "source": [
    "# Get the first N rows\n",
    "data.head(1)"
   ]
  },
  {
   "cell_type": "code",
   "execution_count": null,
   "id": "2e293cd8-3b96-4db2-aca7-64512c9c095d",
   "metadata": {},
   "outputs": [],
   "source": [
    "data.T.describe()"
   ]
  },
  {
   "cell_type": "markdown",
   "id": "d7f1c7a8-2074-4c05-8a57-1b91b5ba022d",
   "metadata": {},
   "source": [
    "# Subsetting Data"
   ]
  },
  {
   "cell_type": "code",
   "execution_count": null,
   "id": "1afed516-98b6-484f-90b0-d6788ab7b0b5",
   "metadata": {},
   "outputs": [],
   "source": [
    "data = pd.read_csv(\"gapminder_gdp_europe.csv\", index_col = \"country\")"
   ]
  },
  {
   "cell_type": "code",
   "execution_count": null,
   "id": "f484607a-37d8-43ad-be58-0e82ec4cdf55",
   "metadata": {},
   "outputs": [],
   "source": [
    "data.head(3)"
   ]
  },
  {
   "cell_type": "code",
   "execution_count": null,
   "id": "9615f73d-7dbf-4a1f-867f-369cc857d548",
   "metadata": {},
   "outputs": [],
   "source": [
    "# Get item by index location\n",
    "data.iloc[0,0]"
   ]
  },
  {
   "cell_type": "code",
   "execution_count": null,
   "id": "3bd68c14-52ce-48bb-8f8e-9f6a535f309a",
   "metadata": {},
   "outputs": [],
   "source": [
    "# Get item by index location, descriptive locations\n",
    "data.loc[\"Albania\", \"gdpPercap_1952\"]"
   ]
  },
  {
   "cell_type": "markdown",
   "id": "9cbd0584-06d7-4d14-ae88-9b49505948e3",
   "metadata": {},
   "source": [
    "# A brief digression on string methods"
   ]
  },
  {
   "cell_type": "code",
   "execution_count": null,
   "id": "e162f63b-b7b9-4b5e-89a8-76d81ff827ba",
   "metadata": {},
   "outputs": [],
   "source": [
    "# Standard has string methods\n",
    "big_hello = \"hello\".title()\n",
    "print(big_hello)"
   ]
  },
  {
   "cell_type": "code",
   "execution_count": null,
   "id": "c6ebb5f0-fe55-4b3b-b1d4-745588e053c3",
   "metadata": {},
   "outputs": [],
   "source": [
    "help(\"hello\".title)"
   ]
  },
  {
   "cell_type": "code",
   "execution_count": null,
   "id": "641fefa2-d470-43c0-8b4e-7b2483367490",
   "metadata": {},
   "outputs": [],
   "source": [
    "# What methods are available?\n",
    "print(dir(\"hello\"))"
   ]
  },
  {
   "cell_type": "code",
   "execution_count": null,
   "id": "8e0bfe17-ace2-4401-ba54-b5ff61c57001",
   "metadata": {},
   "outputs": [],
   "source": [
    "print(data.columns)"
   ]
  },
  {
   "cell_type": "code",
   "execution_count": null,
   "id": "4c26e7af-f688-4430-9707-11db4a5b170c",
   "metadata": {},
   "outputs": [],
   "source": [
    "print(dir(data.columns.str))"
   ]
  },
  {
   "cell_type": "code",
   "execution_count": null,
   "id": "32d48089-140f-4869-8cd1-04bf94cd4e7a",
   "metadata": {},
   "outputs": [],
   "source": [
    "# Rewwrite column headers to strip off leading text\n",
    "data.columns = data.columns.str.strip(\"gdpPercap_\")\n",
    "print(data.columns)"
   ]
  },
  {
   "cell_type": "code",
   "execution_count": null,
   "id": "f41d6390-5e54-4033-8746-00ea67bac98e",
   "metadata": {},
   "outputs": [],
   "source": [
    "data.loc[\"Albania\", \"1952\"]"
   ]
  },
  {
   "cell_type": "code",
   "execution_count": null,
   "id": "5eca7903-3482-41f1-a039-30ae95c9a296",
   "metadata": {},
   "outputs": [],
   "source": [
    "subset = data.loc[\"Italy\":\"Poland\", \"1962\":\"1972\"]"
   ]
  },
  {
   "cell_type": "code",
   "execution_count": null,
   "id": "cfbb018b-60fb-4e6d-bd26-154fd7ebb0aa",
   "metadata": {},
   "outputs": [],
   "source": [
    "subset"
   ]
  },
  {
   "cell_type": "code",
   "execution_count": null,
   "id": "72ad4132-0c59-42d2-8469-55fe8bb26718",
   "metadata": {},
   "outputs": [],
   "source": [
    "# Get all of the variables for a subset of rows\n",
    "data.loc[\"Italy\":\"Poland\", :]"
   ]
  },
  {
   "cell_type": "code",
   "execution_count": null,
   "id": "a7ac231e-7b60-4c17-8d10-ea471809761b",
   "metadata": {},
   "outputs": [],
   "source": [
    "subset.describe()"
   ]
  },
  {
   "cell_type": "code",
   "execution_count": null,
   "id": "186344db-877b-40ba-a2f7-463c513d54fa",
   "metadata": {},
   "outputs": [],
   "source": [
    "subset.max()"
   ]
  },
  {
   "cell_type": "markdown",
   "id": "d92f94d5-5932-4057-8467-fbf8f55bc85a",
   "metadata": {},
   "source": [
    "## Challenge\n",
    "\n",
    "1. Calculate subset.max() and assign the results to a variable. What kind of thing is it?\n",
    "2. What is the maximum value of the new thing?\n",
    "3. Can you calculate the max value of subset in 1 step?"
   ]
  },
  {
   "cell_type": "code",
   "execution_count": null,
   "id": "ed41dfb6-bc72-4d21-a0f4-a6beb7c02fe2",
   "metadata": {},
   "outputs": [],
   "source": [
    "# answer to 1\n",
    "subset_max = subset.max()\n",
    "# help(subset_max): told me it was a series, thus answer to 2\n",
    "subset_max.max()\n",
    "# answer to 3\n",
    "subset.max().max()"
   ]
  },
  {
   "cell_type": "code",
   "execution_count": null,
   "id": "3c561a33-fa38-492c-a629-011b27b13276",
   "metadata": {},
   "outputs": [],
   "source": [
    "#in-class solution\n",
    "print(type(subset))\n",
    "print(type(subset_max))"
   ]
  },
  {
   "cell_type": "code",
   "execution_count": null,
   "id": "d95eab0c-20ec-48b4-baf2-2282d144cc20",
   "metadata": {},
   "outputs": [],
   "source": [
    "print(\"Default max\")\n",
    "print(subset.max())\n",
    "print(\"Max along axis 0\")\n",
    "print(subset.max(axis = 0))\n",
    "print(\"Max along axis 1\")\n",
    "print(subset.max(axis = 1))"
   ]
  },
  {
   "cell_type": "code",
   "execution_count": null,
   "id": "1a2334c3-ce21-4b10-a34b-d232b91e86ea",
   "metadata": {},
   "outputs": [],
   "source": [
    "# Get max for overall data frame\n",
    "subset.max().max(axis = None)"
   ]
  },
  {
   "cell_type": "markdown",
   "id": "7fefabc1-f03e-4df4-8731-cf70b228452d",
   "metadata": {},
   "source": [
    "# Filter data by criterion"
   ]
  },
  {
   "cell_type": "code",
   "execution_count": null,
   "id": "fb14c4e1-d1fb-4798-92a4-a7cdde8c9a91",
   "metadata": {},
   "outputs": [],
   "source": [
    "subset"
   ]
  },
  {
   "cell_type": "code",
   "execution_count": null,
   "id": "241a69d8-e2a8-4c2e-96e7-68b6fa65fb6f",
   "metadata": {},
   "outputs": [],
   "source": [
    "# Get GDPs greater than 10,000\n",
    "subset > 10000"
   ]
  },
  {
   "cell_type": "code",
   "execution_count": null,
   "id": "ea0b9837-c852-4a09-8307-14c20473e022",
   "metadata": {},
   "outputs": [],
   "source": [
    "# Filter the data frame by the criterion\n",
    "df = subset[subset > 10000]\n",
    "df"
   ]
  },
  {
   "cell_type": "code",
   "execution_count": null,
   "id": "fcf4ab6d-92bf-4552-b967-8624d5fceba0",
   "metadata": {},
   "outputs": [],
   "source": [
    "# Get everything above the median\n",
    "subset[subset > subset.median(axis = None)]"
   ]
  },
  {
   "cell_type": "markdown",
   "id": "f4f13055-3566-4730-8dc2-29afb5cc43fa",
   "metadata": {},
   "source": [
    "# Work with missing data"
   ]
  },
  {
   "cell_type": "code",
   "execution_count": null,
   "id": "79d2609f-f5a9-4004-9d28-b0379c932ff1",
   "metadata": {},
   "outputs": [],
   "source": [
    "# Missing data is ignrored by default\n",
    "print(\"Column means\")\n",
    "print(df.mean())\n",
    "\n",
    "print(\"Row means\")\n",
    "print(df.mean(axis = 1))"
   ]
  },
  {
   "cell_type": "code",
   "execution_count": null,
   "id": "2a8fbcc9-0762-4e50-8a00-7d01c57b6bed",
   "metadata": {},
   "outputs": [],
   "source": [
    "# Check for missing values, says true for missing values\n",
    "df.isna()"
   ]
  },
  {
   "cell_type": "code",
   "execution_count": null,
   "id": "abfb4955-a93b-4cf0-bbb9-1e2d9f2306a2",
   "metadata": {},
   "outputs": [],
   "source": [
    "# Count our missing values\n",
    "# Missing by row\n",
    "df.isna().sum()"
   ]
  },
  {
   "cell_type": "code",
   "execution_count": null,
   "id": "6b1106eb-601d-402c-999c-7efd065a739e",
   "metadata": {},
   "outputs": [],
   "source": [
    "# Check total missing values\n",
    "df.isna().sum().sum(axis = None)"
   ]
  },
  {
   "cell_type": "code",
   "execution_count": null,
   "id": "d6d14357-ef75-4b45-9825-24b230bfb22a",
   "metadata": {},
   "outputs": [],
   "source": [
    "df"
   ]
  },
  {
   "cell_type": "code",
   "execution_count": null,
   "id": "46daae3d-8f38-4fc4-aa61-612f391a180c",
   "metadata": {},
   "outputs": [],
   "source": [
    "# Drop missing values, very biased, can get away with it if you have a small number of missing values\n",
    "df.dropna()"
   ]
  },
  {
   "cell_type": "code",
   "execution_count": null,
   "id": "607b8a30-efff-4986-b22f-88580373baee",
   "metadata": {},
   "outputs": [],
   "source": [
    "# Replace missing values with a fixed value\n",
    "df_fixed = df.fillna(99)\n",
    "print(df_fixed)"
   ]
  },
  {
   "cell_type": "code",
   "execution_count": null,
   "id": "c9a94cc2-2c23-4cd5-ae53-fd4f524dac43",
   "metadata": {},
   "outputs": [],
   "source": [
    "# Replace missing values with interpolated data\n",
    "df_interpolated = df.interpolate()\n",
    "print(df_interpolated)"
   ]
  },
  {
   "cell_type": "markdown",
   "id": "f8b44889-7eae-4088-8475-1d0ae1a67840",
   "metadata": {},
   "source": [
    "## Hard Challenge: The perils of missing data\n",
    "1. Create an array of random numbers matching the \"data\" dataframe\n",
    "\n",
    "random_filter = np.random.rand(30,12) * data.max(axis = None)\n",
    "\n",
    "2. Create a new data frame that filters out all values lower than the random numbers\n",
    "3. Interpolate new values for the missing data in the new missing data frame. How accurate are they?"
   ]
  },
  {
   "cell_type": "code",
   "execution_count": null,
   "id": "fd7bdd2a-f2ce-4810-aee6-9797da68b8b3",
   "metadata": {},
   "outputs": [],
   "source": [
    "random_filter = np.random.rand(30,12) * 49000"
   ]
  },
  {
   "cell_type": "code",
   "execution_count": null,
   "id": "909cfc82-62c7-417a-aee4-fd3ca108bcf2",
   "metadata": {},
   "outputs": [],
   "source": [
    "# data[data > random_filter] creates a data with data selected above the random filter\n",
    "df_filter = data[data > random_filter]\n",
    "df_filter"
   ]
  },
  {
   "cell_type": "code",
   "execution_count": null,
   "id": "fbf059d4-dc1b-48e0-b850-c8b22967802b",
   "metadata": {},
   "outputs": [],
   "source": [
    "df_filter_interpolated = df_filter.interpolate()\n",
    "df_filter_interpolated"
   ]
  },
  {
   "cell_type": "code",
   "execution_count": null,
   "id": "bf53624a-a81b-4be6-b153-a6d736236b09",
   "metadata": {},
   "outputs": [],
   "source": [
    "data.describe()"
   ]
  },
  {
   "cell_type": "code",
   "execution_count": null,
   "id": "955f1cd3-3285-4455-9349-eaaecdf87a6e",
   "metadata": {},
   "outputs": [],
   "source": [
    "df_filter_interpolated.describe()"
   ]
  },
  {
   "cell_type": "markdown",
   "id": "944745af-90c3-4ba0-b64d-f3b3f88041b3",
   "metadata": {},
   "source": [
    "# Sorting and grouping"
   ]
  },
  {
   "cell_type": "code",
   "execution_count": null,
   "id": "a03bbe1c-f404-40be-9b26-8d2a17281dd7",
   "metadata": {},
   "outputs": [],
   "source": [
    "# Z score all of the GDP data points, have to use the actual value of data.mean(axis = None)\n",
    "z = (data - 14469)/data.values.std(ddof=1)"
   ]
  },
  {
   "cell_type": "code",
   "execution_count": null,
   "id": "b0d4e35d-4d1c-433d-98ec-763960d17d9c",
   "metadata": {},
   "outputs": [],
   "source": [
    "# Get mean z score for each country\n",
    "mean_z = z.mean(axis=1)\n",
    "mean_z.sort_values()"
   ]
  },
  {
   "cell_type": "code",
   "execution_count": null,
   "id": "c4f4970f-f7a4-4677-8e21-f9a31c4dabe5",
   "metadata": {},
   "outputs": [],
   "source": [
    "bool_z = mean_z > 0\n",
    "bool_z"
   ]
  },
  {
   "cell_type": "code",
   "execution_count": null,
   "id": "915dab7b-8a1f-46a5-af2c-96267a2e5594",
   "metadata": {},
   "outputs": [],
   "source": [
    "# Add new columbs to data frame\n",
    "data[\"mean_z\"] = mean_z\n",
    "data[\"wealthy\"] = bool_z"
   ]
  },
  {
   "cell_type": "code",
   "execution_count": null,
   "id": "d23a75ae-0115-4290-99f9-6e5b885a0c95",
   "metadata": {},
   "outputs": [],
   "source": [
    "data.head(3)"
   ]
  },
  {
   "cell_type": "code",
   "execution_count": null,
   "id": "a5cc4980-69a3-4571-a810-09bac55cc53e",
   "metadata": {},
   "outputs": [],
   "source": [
    "# Get descriptive statistics for groups based on categorical information\n",
    "data.groupby(\"wealthy\").mean()"
   ]
  },
  {
   "cell_type": "code",
   "execution_count": null,
   "id": "dc117e44-1a51-4dab-9ef4-b806f7aa482e",
   "metadata": {},
   "outputs": [],
   "source": [
    "data.groupby(\"wealthy\").describe()"
   ]
  },
  {
   "cell_type": "code",
   "execution_count": null,
   "id": "57d91af1-cbfc-414c-824b-55de20f15396",
   "metadata": {},
   "outputs": [],
   "source": [
    "# Write output\n",
    "data.to_csv(\"europe_normed.csv\")"
   ]
  },
  {
   "cell_type": "markdown",
   "id": "f11d3495-c8ae-4cc8-bd12-9e2b87fc94d4",
   "metadata": {},
   "source": [
    "# Looping over data sets"
   ]
  },
  {
   "cell_type": "code",
   "execution_count": null,
   "id": "a93f809e-41a9-496d-80dc-e4364c8cf568",
   "metadata": {},
   "outputs": [],
   "source": [
    "import pandas as pd"
   ]
  },
  {
   "cell_type": "code",
   "execution_count": null,
   "id": "959139e7-d4f4-47d6-aa53-c16ba9a1dfe1",
   "metadata": {},
   "outputs": [],
   "source": [
    "# Import the data from files in a list\n",
    "file_list = [\"gapminder_gdp_africa.csv\", \"gapminder_gdp_asia.csv\"]\n",
    "\n",
    "for filename in file_list:\n",
    "    data = pd.read_csv(filename, index_col = \"country\")\n",
    "    print(filename)\n",
    "    print(data.head(1))"
   ]
  },
  {
   "cell_type": "code",
   "execution_count": null,
   "id": "c4baec0a-7770-46b5-90c4-735c1b6a8ec8",
   "metadata": {},
   "outputs": [],
   "source": [
    "# Automatically get a list of files\n",
    "import glob "
   ]
  },
  {
   "cell_type": "code",
   "execution_count": null,
   "id": "8c613aea-a126-435e-ad05-e91106f8cc55",
   "metadata": {},
   "outputs": [],
   "source": [
    "glob.glob(\"*.csv\")"
   ]
  },
  {
   "cell_type": "code",
   "execution_count": null,
   "id": "b60ac8df-40e4-4cc3-8489-5769ec12e33b",
   "metadata": {},
   "outputs": [],
   "source": [
    "# Get all the CSV or TSV files\n",
    "glob.glob(\"*.?sv\")"
   ]
  },
  {
   "cell_type": "code",
   "execution_count": null,
   "id": "86025f6a-1b3f-4586-8857-d091b96226d1",
   "metadata": {},
   "outputs": [],
   "source": [
    "# Get a list of all the continents\n",
    "glob.glob(\"gapminder_gdp*.csv\")"
   ]
  },
  {
   "cell_type": "code",
   "execution_count": null,
   "id": "2c8744b8-1a8a-4ccc-8228-6da197bb3132",
   "metadata": {},
   "outputs": [],
   "source": [
    "# Get continent-lvel data and aggregate into 1 data frame\n",
    "data_frames = []\n",
    "\n",
    "for filename in glob.glob(\"gapminder_gdp*.csv\"):\n",
    "    print(filename)\n",
    "    data = pd.read_csv(filename, index_col = \"country\")\n",
    "    data_frames.append(data)\n",
    "    \n",
    "# Concatentate data frames\n",
    "all_data = pd.concat(data_frames)\n"
   ]
  },
  {
   "cell_type": "code",
   "execution_count": null,
   "id": "0c8121bc-d8f2-4e68-9d63-186cf2fa5da9",
   "metadata": {},
   "outputs": [],
   "source": [
    "# Inspect our results\n",
    "print(all_data.shape)\n",
    "print(all_data.index)"
   ]
  },
  {
   "cell_type": "markdown",
   "id": "ef5a4d77-9af1-4306-8766-79d368c65341",
   "metadata": {},
   "source": [
    "# Conditionals"
   ]
  },
  {
   "cell_type": "code",
   "execution_count": null,
   "id": "20a9a084-d46c-48f6-953e-5d43cb0af02c",
   "metadata": {},
   "outputs": [],
   "source": [
    "# Does a file end in \"all.csv\"?\n",
    "for filename in glob.glob(\"gapminder*.csv\"):\n",
    "    print(\"Current file:\", filename)\n",
    "    print(filename.endswith(\"all.csv\"))"
   ]
  },
  {
   "cell_type": "code",
   "execution_count": null,
   "id": "e3f81598-06ed-415a-8595-dfdaf839c446",
   "metadata": {},
   "outputs": [],
   "source": [
    "# Get truth value of a statement\n",
    "mass = 3 \n",
    "\n",
    "print(mass == 3)\n",
    "print(mass > 5)\n",
    "print(mass < 4)"
   ]
  },
  {
   "cell_type": "code",
   "execution_count": null,
   "id": "5d97f6d7-399e-4c53-86fd-23d669116db5",
   "metadata": {},
   "outputs": [],
   "source": [
    "# Test for membership in a collection\n",
    "primes = [2, 3, 5]\n",
    "print(2 in primes)\n",
    "print(7 in primes)"
   ]
  },
  {
   "cell_type": "code",
   "execution_count": null,
   "id": "49aab24d-1062-4c7a-9a18-93e6dc434623",
   "metadata": {},
   "outputs": [],
   "source": [
    "# Recreate data frame from yesterday's class\n",
    "# Testing for missing values\n",
    "data = pd.read_csv(\"europe_normed.csv\", index_col = \"country\")\n",
    "subset = data.loc[\"Italy\":\"Poland\", \"1962\":\"1972\"]\n",
    "df = subset[subset > 10000]"
   ]
  },
  {
   "cell_type": "code",
   "execution_count": null,
   "id": "fa69af3c-e35d-4df5-b5a8-f8a12b3bea86",
   "metadata": {},
   "outputs": [],
   "source": [
    "# Which values are missing?\n",
    "df.isna()"
   ]
  },
  {
   "cell_type": "code",
   "execution_count": null,
   "id": "1d25ab71-e0b0-4b82-a137-da0adf087d6b",
   "metadata": {},
   "outputs": [],
   "source": [
    "# Are any values missing?\n",
    "df.isna().any(axis = None)\n",
    "# or df.isna().any().any() if axis = None is not working"
   ]
  },
  {
   "cell_type": "code",
   "execution_count": null,
   "id": "01476c79-20ed-4c59-b705-ef6d33392594",
   "metadata": {},
   "outputs": [],
   "source": [
    "# Make choices wih if - then statement\n",
    "mass = 2.0\n",
    "\n",
    "if mass > 3.0:\n",
    "    print(mass, \"is large\")"
   ]
  },
  {
   "cell_type": "code",
   "execution_count": null,
   "id": "19cec02a-5bf7-4a46-94ca-9fd8749eb9b8",
   "metadata": {},
   "outputs": [],
   "source": [
    "# Test for files ending in \"all.csv\"\n",
    "data_frames = []\n",
    "for filename in glob.glob(\"gapminder*.csv\"):\n",
    "    print(filename)\n",
    "    if not filename.endswith(\"all.csv\"):\n",
    "        print(\"Passes test:\", filename)\n",
    "        data = pd.read_csv(filename, index_col = \"country\")\n",
    "        data_frames.append(data)\n",
    "        \n",
    "all_data = pd.concat(data_frames)\n",
    "print(all_data.shape)"
   ]
  },
  {
   "cell_type": "code",
   "execution_count": null,
   "id": "e878aa4b-74ed-4332-a8f5-98ad6692c72f",
   "metadata": {},
   "outputs": [],
   "source": [
    "# Add an else condition\n",
    "mass = 2.0\n",
    "\n",
    "if mass > 3.0:\n",
    "    print(mass, \"is large\")\n",
    "else: \n",
    "    print(mass, \"is small\")"
   ]
  },
  {
   "cell_type": "code",
   "execution_count": null,
   "id": "d2af86a4-a17f-40dc-8cac-0b4c59c8249c",
   "metadata": {},
   "outputs": [],
   "source": [
    "data_frames = []\n",
    "\n",
    "for filename in glob.glob(\"gapminder*.csv\"):\n",
    "    if filename.endswith(\"all.csv\"):\n",
    "        print(\"I don't want any of that\")\n",
    "    else:\n",
    "        print(\"Passes test:\", filename)\n",
    "        data = pd.read_csv(filename, index_col = \"country\")\n",
    "        data_frames.append(data)\n",
    "        \n",
    "all_data = pd.concat(data_frames)\n",
    "print(all_data.shape)"
   ]
  },
  {
   "cell_type": "markdown",
   "id": "2820f8eb-c8fd-480a-a6d8-318432f34e42",
   "metadata": {},
   "source": [
    "## Challenge 1\n",
    "1. Iterate through all the CSV files in the directory\n",
    "2. Print the name and length (number of rows) of any file less than 30 rows long"
   ]
  },
  {
   "cell_type": "markdown",
   "id": "cbcb3375-ec1f-4049-a0ae-104128cc6158",
   "metadata": {},
   "source": [
    "## Challenge 2\n",
    "1. Iterate through all the CSV files in the directory\n",
    "2. Print any file name that includes \"europe\", then print the column names for that file."
   ]
  },
  {
   "cell_type": "code",
   "execution_count": null,
   "id": "b9a71577-4193-403a-8979-ccd33bd541b8",
   "metadata": {},
   "outputs": [],
   "source": [
    "# Challenge 1\n",
    "\n",
    "for filename in glob.glob(\"*.csv\"):\n",
    "    data = pd.read_csv(filename)\n",
    "    if data.shape[0] < 30:\n",
    "        print(filename, data.shape[0])"
   ]
  },
  {
   "cell_type": "code",
   "execution_count": null,
   "id": "f5686192-d502-4bfe-9aa9-b46839e3b27c",
   "metadata": {},
   "outputs": [],
   "source": [
    "# Challenge 2\n",
    "\n",
    "for filename in glob.glob(\"*.csv\"):\n",
    "    # A string is kind of like a list\n",
    "    if \"europe\" in filename.lower():\n",
    "        print(filename)\n",
    "        data = pd.read_csv(filename)\n",
    "        print(data.columns)"
   ]
  },
  {
   "cell_type": "code",
   "execution_count": null,
   "id": "83034eb0-b006-4379-a7c1-d581bb41c8f0",
   "metadata": {},
   "outputs": [],
   "source": [
    "# You can specify additional tests with elif\n",
    "mass = 2.0\n",
    "\n",
    "if mass > 9.0:\n",
    "    print(mass, \"is huge\")\n",
    "elif mass > 3.0:\n",
    "    print(mass, \"is large\")\n",
    "else:\n",
    "    print(mass, \"is small\")"
   ]
  },
  {
   "cell_type": "code",
   "execution_count": null,
   "id": "f830a9ce-1253-49ea-ad01-f1c78f17634c",
   "metadata": {},
   "outputs": [],
   "source": [
    "# You can do more complicated tests\n",
    "mass = [1, 2, 3, 4, 5]\n",
    "velocity = [5, 4, 3, 2, 5]\n",
    "\n",
    "# Get each pair of measurements\n",
    "for m, v in zip(mass, velocity):\n",
    "    if m<= 3 and v <=3:\n",
    "        print(\"Small and slow\")\n",
    "    elif m <= 3 and v >= 3:\n",
    "        print(\"Small and fast\")\n",
    "    elif m > 3 and v <= 3:\n",
    "        print(\"Large and slow\")\n",
    "    else:\n",
    "        print(\"Check data\")\n"
   ]
  },
  {
   "cell_type": "markdown",
   "id": "fcfca7e2-d9ab-4966-97e6-ececc980f68a",
   "metadata": {},
   "source": [
    "# Functions"
   ]
  },
  {
   "cell_type": "code",
   "execution_count": null,
   "id": "37ce15b9-df5b-4b49-9383-f742a1e8527c",
   "metadata": {},
   "outputs": [],
   "source": [
    "def print_greeting():\n",
    "    print(\"Hello!\")"
   ]
  },
  {
   "cell_type": "code",
   "execution_count": null,
   "id": "2174ada9-6326-469d-b297-941ad2e4578b",
   "metadata": {},
   "outputs": [],
   "source": [
    "print_greeting()"
   ]
  },
  {
   "cell_type": "code",
   "execution_count": null,
   "id": "ef9be685-daa6-4945-82b7-ba053948fcbc",
   "metadata": {},
   "outputs": [],
   "source": [
    "# Functions take arguements\n",
    "def print_date(year, month, day):\n",
    "    joined_date = \"/\".join([str(year), str(month), str(day)])\n",
    "    print(joined_date)"
   ]
  },
  {
   "cell_type": "code",
   "execution_count": null,
   "id": "3d493746-8a66-4328-8a25-3550f98fb8ee",
   "metadata": {},
   "outputs": [],
   "source": [
    "print_date(1872, 3, 9)"
   ]
  },
  {
   "cell_type": "code",
   "execution_count": null,
   "id": "16419f6c-6aa4-4cac-a47a-1b6a5e64cabf",
   "metadata": {},
   "outputs": [],
   "source": [
    "# Test your data inside your function\n",
    "def average(values):\n",
    "    \"\"\"Return average of values, or None if no values are supplied.\"\"\"\n",
    "    \n",
    "    if len(values) == 0:\n",
    "        return None\n",
    "    else: \n",
    "        return sum(values) / len(values)"
   ]
  },
  {
   "cell_type": "code",
   "execution_count": null,
   "id": "cc7d5db1-e58c-4c40-ad92-966573ee80ca",
   "metadata": {},
   "outputs": [],
   "source": [
    "a1 = average([1, 2, 3])\n",
    "print(a1)"
   ]
  },
  {
   "cell_type": "code",
   "execution_count": null,
   "id": "98f165f4-04ca-4c4d-86af-dabac6399436",
   "metadata": {},
   "outputs": [],
   "source": [
    "a2 = average([])\n",
    "print(a2)"
   ]
  },
  {
   "cell_type": "code",
   "execution_count": null,
   "id": "875bf4aa-98e9-421c-953b-a16b798f1ecf",
   "metadata": {},
   "outputs": [],
   "source": [
    "# a3 = average(3)\n",
    "# print(a3)\n",
    "# no argument in function for this condition"
   ]
  },
  {
   "cell_type": "markdown",
   "id": "a260407a-6c71-4d41-bb88-ad308a242370",
   "metadata": {},
   "source": [
    "## Challenge\n",
    "Write a function that encapsulates the z-score calculation. Your function should do the following:\n",
    "\n",
    "1. Read a csv file into a dataframe\n",
    "2. Calculate the Z score for each item\n",
    "3. Calculate the mean Z score for each country\n",
    "4. Append the mean Z score as a new column \n",
    "5. Return the data frame"
   ]
  },
  {
   "cell_type": "code",
   "execution_count": null,
   "id": "ab863caa-b881-4a1f-8949-87c68072a894",
   "metadata": {},
   "outputs": [],
   "source": [
    "(pd.__version__)"
   ]
  },
  {
   "cell_type": "code",
   "execution_count": null,
   "id": "4466b40c-18a9-456a-b3ff-37e01c11ced2",
   "metadata": {},
   "outputs": [],
   "source": [
    "# Calculate overall mean and std with NumPy\n",
    "# data.values.mean()\n",
    "# data.values.std()"
   ]
  },
  {
   "cell_type": "code",
   "execution_count": null,
   "id": "ffddecd1-bc97-4703-b47e-20800e7448e2",
   "metadata": {},
   "outputs": [],
   "source": [
    "def norm_data(filename, index_col = None):\n",
    "    \"\"\"Add a Z score to a data frame.\"\"\"\n",
    "    \n",
    "    #Import the data\n",
    "    data = pd.read_csv(filename, index_col = index_col)\n",
    "    \n",
    "    #Drop continent column if necessary. This returns a new data frame.\n",
    "    # if \"continent\" in data.columns:\n",
    "       # data.drop(\"continent\", axis=1)\n",
    "    if \"continent\" in data.columns:\n",
    "        data = data.drop(\"continent\", axis=1)\n",
    "    \n",
    "    # Calculate individual Z scores\n",
    "    z = (data - data.values.mean()) / data.values.std()\n",
    "    \n",
    "    # Mean Z score for each country\n",
    "    mean_z = z.mean(axis=1)\n",
    "    \n",
    "    # Add new column to data frame\n",
    "    data[\"mean_z\"] = mean_z\n",
    "    \n",
    "    return data"
   ]
  },
  {
   "cell_type": "code",
   "execution_count": null,
   "id": "d7614f00-92ba-43f2-a0c4-3f75cce6efd6",
   "metadata": {},
   "outputs": [],
   "source": [
    "df = norm_data(\"gapminder_gdp_europe.csv\", index_col = \"country\")\n",
    "print(df.columns)"
   ]
  },
  {
   "cell_type": "markdown",
   "id": "ba2e9e3a-3b05-4e73-948d-59efbf23c260",
   "metadata": {},
   "source": [
    "# Putting it all together"
   ]
  },
  {
   "cell_type": "code",
   "execution_count": null,
   "id": "b72b15a1-b4ca-458b-b8c3-b7de294de0bc",
   "metadata": {},
   "outputs": [],
   "source": [
    "# Get all of the files we care about and get total Z scores\n",
    "\n",
    "data_frames = []\n",
    "\n",
    "for filename in glob.glob(\"gapminder*.csv\"):\n",
    "    if not filename.endswith(\"all.csv\"):\n",
    "        df = norm_data(filename, index_col = \"country\")\n",
    "        data_frames.append(df)\n",
    "        \n",
    "all_data = pd.concat(data_frames)\n",
    "print(all_data.shape)\n",
    "print(all_data.columns)"
   ]
  },
  {
   "cell_type": "code",
   "execution_count": null,
   "id": "a144c395-537e-4e98-a699-f6402ad9722e",
   "metadata": {},
   "outputs": [],
   "source": []
  }
 ],
 "metadata": {
  "kernelspec": {
   "display_name": "Python 3",
   "language": "python",
   "name": "python3"
  },
  "language_info": {
   "codemirror_mode": {
    "name": "ipython",
    "version": 3
   },
   "file_extension": ".py",
   "mimetype": "text/x-python",
   "name": "python",
   "nbconvert_exporter": "python",
   "pygments_lexer": "ipython3",
   "version": "3.8.8"
  }
 },
 "nbformat": 4,
 "nbformat_minor": 5
}
