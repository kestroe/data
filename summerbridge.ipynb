{
 "cells": [
  {
   "cell_type": "code",
   "execution_count": null,
   "id": "41657f08-1a95-45c1-bc08-0947b50d30a8",
   "metadata": {},
   "outputs": [],
   "source": [
    "3 + 7"
   ]
  },
  {
   "cell_type": "code",
   "execution_count": null,
   "id": "b6ee97c3-7346-41c2-9241-5607187089c6",
   "metadata": {},
   "outputs": [],
   "source": [
    "print(\"hello\")"
   ]
  },
  {
   "cell_type": "code",
   "execution_count": null,
   "id": "d66cef39-5dca-4655-8017-daba2936dcd5",
   "metadata": {},
   "outputs": [],
   "source": [
    "print(7)"
   ]
  },
  {
   "cell_type": "code",
   "execution_count": null,
   "id": "ccafbd63-179c-4c0c-9e0f-d50f28d65414",
   "metadata": {},
   "outputs": [],
   "source": [
    "name = \"Derek\"\n",
    "age = 42"
   ]
  },
  {
   "cell_type": "code",
   "execution_count": null,
   "id": "9cc10f3a-3bbd-4ed5-922d-b84ae8e3f95b",
   "metadata": {},
   "outputs": [],
   "source": [
    "print(age)"
   ]
  },
  {
   "cell_type": "code",
   "execution_count": null,
   "id": "278d6f35-35df-4a32-9782-4c475d3355c9",
   "metadata": {},
   "outputs": [],
   "source": [
    "# This is a comment. It will not run \n",
    "# You can echo values without using print in this notebook\n",
    "name"
   ]
  },
  {
   "cell_type": "markdown",
   "id": "9a866d74-5e90-4cad-bacd-fee324c5c814",
   "metadata": {},
   "source": [
    "# Variables and values"
   ]
  },
  {
   "cell_type": "code",
   "execution_count": null,
   "id": "de8ae330-a9ff-4f27-9525-bb19c9a38f42",
   "metadata": {},
   "outputs": [],
   "source": [
    "# Variables can be used in calculations\n",
    "print(age)\n",
    "age = age + 3\n",
    "print(age)"
   ]
  },
  {
   "cell_type": "code",
   "execution_count": null,
   "id": "ea3bf884-b581-4b55-8455-154b5cdb3b67",
   "metadata": {},
   "outputs": [],
   "source": [
    "# Order of operations matters!\n",
    "first = 1\n",
    "second = first*5\n",
    "first = 2\n",
    "print(first)\n",
    "print(second)"
   ]
  },
  {
   "cell_type": "code",
   "execution_count": null,
   "id": "b9b41d65-fde9-4d99-a994-46a43617dfe5",
   "metadata": {},
   "outputs": [],
   "source": [
    "# Values have types. Types affect what you can do with them. \n",
    "print(5-3)\n",
    "#print(\"hello\" - \"h\")"
   ]
  },
  {
   "cell_type": "code",
   "execution_count": null,
   "id": "a02540fe-d8ab-4e35-a38d-dc347befd570",
   "metadata": {},
   "outputs": [],
   "source": [
    "print(len(\"hello\"))\n",
    "#print(len(6))"
   ]
  },
  {
   "cell_type": "markdown",
   "id": "99f14054-6d0c-4541-b7d6-815e5c13ae02",
   "metadata": {},
   "source": [
    "## Challenge \n",
    "Explain what each operator does \n",
    "\n",
    "print(5 // 3)\n",
    "\n",
    "print(5 / 3)\n",
    "\n",
    "print(5 % 3)"
   ]
  },
  {
   "cell_type": "code",
   "execution_count": null,
   "id": "29698e7d-1cfc-43e8-80fc-8351a5bf56c6",
   "metadata": {},
   "outputs": [],
   "source": [
    "print(5//3)\n",
    "print(5/3)\n",
    "print(5%3)"
   ]
  },
  {
   "cell_type": "markdown",
   "id": "b0a6f0a2-9d3f-4dbe-9bf8-95e66f640ee1",
   "metadata": {},
   "source": [
    "# Getting help"
   ]
  },
  {
   "cell_type": "code",
   "execution_count": null,
   "id": "7b8170ea-84c6-4e29-81a0-1cdae78aae78",
   "metadata": {},
   "outputs": [],
   "source": [
    "# Rounding numbers is built in\n",
    "round(3.14159)"
   ]
  },
  {
   "cell_type": "code",
   "execution_count": null,
   "id": "2c6c3ba7-6afa-4c17-a4c5-10923f5e25f7",
   "metadata": {},
   "outputs": [],
   "source": [
    "round(3.14159, 2)"
   ]
  },
  {
   "cell_type": "code",
   "execution_count": null,
   "id": "938338a2-6886-405f-9c2b-cb20493da51d",
   "metadata": {},
   "outputs": [],
   "source": [
    "help(round)"
   ]
  },
  {
   "cell_type": "code",
   "execution_count": null,
   "id": "f7c7d1dd-e328-4503-8875-acaf9cacdd3f",
   "metadata": {},
   "outputs": [],
   "source": [
    "round(3.14159, ndigits = 2)"
   ]
  },
  {
   "cell_type": "code",
   "execution_count": null,
   "id": "e9c6746e-7e4e-427b-8e96-3efb4941d696",
   "metadata": {},
   "outputs": [],
   "source": [
    "# All functions return a new value\n",
    "rounded_pi = round(3.14159, 2)\n",
    "print(rounded_pi)"
   ]
  },
  {
   "cell_type": "markdown",
   "id": "5aa123e3-42f8-4e67-8172-8a7c3f7dcd7d",
   "metadata": {},
   "source": [
    "## Challenge\n",
    "\n",
    "In what order do the operations happen?\n",
    "\n",
    "radiance = 1.0\n",
    "\n",
    "radiance = max(2.1, 2.0 + min(radiance, 1.1 * radiance - 0.5))"
   ]
  },
  {
   "cell_type": "code",
   "execution_count": null,
   "id": "5996470f-68da-4c32-9cd4-1819e9c09360",
   "metadata": {},
   "outputs": [],
   "source": [
    "radiance = 1.0\n",
    "print(radiance*1.1-0.5)\n",
    "radiance = max(2.1, 2.0 + min(radiance, 1.1 * radiance - 0.5))\n",
    "print(radiance)"
   ]
  },
  {
   "cell_type": "code",
   "execution_count": null,
   "id": "9e3b8bda-39fb-4d8e-9253-140569f569a5",
   "metadata": {},
   "outputs": [],
   "source": [
    "help(min)"
   ]
  },
  {
   "cell_type": "code",
   "execution_count": null,
   "id": "45d1689f-db9b-492e-b523-45f4c509caf7",
   "metadata": {
    "jupyter": {
     "source_hidden": true
    },
    "tags": []
   },
   "outputs": [],
   "source": [
    "# Break down these operations\n",
    "radiance = 1.0 \n",
    "\n",
    "min_arg_2 = 1.1 * radiance - 0.5\n",
    "print(\"Min arg 2:\", min_arg_2)\n",
    "\n",
    "min_result = min(radiance, min_arg_2)\n",
    "print(\"Min result:\", min_result)\n",
    "\n",
    "radiance = max(2.1, 2.0 + min_result)\n",
    "print(radiance)"
   ]
  },
  {
   "cell_type": "markdown",
   "id": "45529255-0fdc-4144-bf01-1016cd126b11",
   "metadata": {},
   "source": [
    "# A Brief Interlude with Git"
   ]
  },
  {
   "cell_type": "markdown",
   "id": "fd4d0a42-e8ed-4ea8-a84b-0a313d177bba",
   "metadata": {},
   "source": [
    "# Libraries"
   ]
  },
  {
   "cell_type": "code",
   "execution_count": null,
   "id": "b7fd7a7f-fcad-4c1a-beb2-081946681a92",
   "metadata": {},
   "outputs": [],
   "source": [
    "import math"
   ]
  },
  {
   "cell_type": "code",
   "execution_count": null,
   "id": "9f53903b-933f-46f1-b895-6555d296655d",
   "metadata": {},
   "outputs": [],
   "source": [
    "math.pi"
   ]
  },
  {
   "cell_type": "code",
   "execution_count": null,
   "id": "ab4ee05d-971a-48e7-8295-3b0d8f325670",
   "metadata": {},
   "outputs": [],
   "source": [
    "print(math.pi)\n",
    "print(math.cos(math.pi))"
   ]
  },
  {
   "cell_type": "code",
   "execution_count": null,
   "id": "196017cd-24f9-42c2-bb0c-cf578292c74e",
   "metadata": {},
   "outputs": [],
   "source": [
    "# get complete help with help()\n",
    "#help(math)\n",
    "\n",
    "# get a list of options with dir()\n",
    "print(dir(math))"
   ]
  },
  {
   "cell_type": "markdown",
   "id": "8bde90f4-ab5f-48dd-b706-7b612cc875dc",
   "metadata": {},
   "source": [
    "# List"
   ]
  },
  {
   "cell_type": "code",
   "execution_count": null,
   "id": "f8faed51-9f7f-41dd-b836-96e15c6bdcb5",
   "metadata": {},
   "outputs": [],
   "source": [
    "# A list is an ordered collection of stuff\n",
    "fruits = [\"apple\", \"banana\", \"cherry\", \"date\", \"elderberry\", \"fig\" ]"
   ]
  },
  {
   "cell_type": "code",
   "execution_count": null,
   "id": "2ac4b4db-ecf9-4339-8791-267169f1cbff",
   "metadata": {},
   "outputs": [],
   "source": [
    "fruits"
   ]
  },
  {
   "cell_type": "code",
   "execution_count": null,
   "id": "f17eb08c-7f7c-4b9c-8749-813119118b11",
   "metadata": {},
   "outputs": [],
   "source": [
    "len(fruits)"
   ]
  },
  {
   "cell_type": "code",
   "execution_count": null,
   "id": "8fe0b48b-dc2a-4df7-92d7-c829651e48c6",
   "metadata": {},
   "outputs": [],
   "source": [
    "# Lists are indexed by position, counting from 0\n",
    "# First item\n",
    "print(fruits[0])\n",
    "\n",
    "#Fifth item\n",
    "print(fruits[4])"
   ]
  },
  {
   "cell_type": "code",
   "execution_count": null,
   "id": "83d5432a-455d-4703-b02b-00200ddf33db",
   "metadata": {},
   "outputs": [],
   "source": [
    "# Get subsets by slicing the list\n",
    "# Get the first 3 items\n",
    "# up to but not including the fourth item, indexed at 3\n",
    "fruits[0:3]"
   ]
  },
  {
   "cell_type": "code",
   "execution_count": null,
   "id": "5f9c3c61-ba37-45c7-9df3-f9f25df04143",
   "metadata": {},
   "outputs": [],
   "source": [
    "fruits[2:5]"
   ]
  },
  {
   "cell_type": "code",
   "execution_count": null,
   "id": "68169a9b-cf8c-4736-8191-9be69421a88d",
   "metadata": {},
   "outputs": [],
   "source": [
    "# Get items by step\n",
    "# GEt the first 5 items, every other item\n",
    "fruits[0:5:2]"
   ]
  },
  {
   "cell_type": "code",
   "execution_count": null,
   "id": "662cdaf1-58a4-4d55-8425-26312a48c78b",
   "metadata": {},
   "outputs": [],
   "source": [
    "# Get first 5 items, every 3rd item\n",
    "fruits[0:5:3]"
   ]
  },
  {
   "cell_type": "code",
   "execution_count": null,
   "id": "b4a78f9e-3ce1-4ed2-b7ce-f380f701d7fc",
   "metadata": {},
   "outputs": [],
   "source": [
    "print(len(fruits))"
   ]
  },
  {
   "cell_type": "markdown",
   "id": "1598f0ab-362c-42d5-a4d8-c1efd3211642",
   "metadata": {},
   "source": [
    "# Challenge\n",
    "\n",
    "What are the following statements doing?\n",
    "\n",
    "fruits[-1]\n",
    "\n",
    "fruits[20]\n",
    "\n",
    "fruits[-3:]"
   ]
  },
  {
   "cell_type": "code",
   "execution_count": null,
   "id": "57f4f089-126a-4b7d-bcf8-8540c0dbd71b",
   "metadata": {},
   "outputs": [],
   "source": [
    "print(fruits[-1])\n",
    "#print(fruits[20])\n",
    "print(fruits[-3:])"
   ]
  },
  {
   "cell_type": "code",
   "execution_count": null,
   "id": "f7eba567-37fc-4c8e-8ee7-32673173c4c7",
   "metadata": {},
   "outputs": [],
   "source": [
    "#Why are lists indexed this way?\n",
    "print(fruits[:2])\n",
    "print(fruits[2:])\n",
    "\n",
    "print(len(fruits[1:3]))"
   ]
  },
  {
   "cell_type": "markdown",
   "id": "0b39d9e8-a178-4a9e-be4c-ccbd9e30fc99",
   "metadata": {},
   "source": [
    "# Adding stuff to lists"
   ]
  },
  {
   "cell_type": "code",
   "execution_count": null,
   "id": "27939610-3b0c-4cfa-9d8f-1d780cfd1870",
   "metadata": {},
   "outputs": [],
   "source": [
    "#Update a specific item\n",
    "print(fruits)\n",
    "\n",
    "fruits[0] = \"apricot\"\n",
    "print(fruits)"
   ]
  },
  {
   "cell_type": "code",
   "execution_count": null,
   "id": "2c42b03b-97dc-4249-801b-bfca0dbe5e25",
   "metadata": {},
   "outputs": [],
   "source": [
    "# Add new items to the list \n",
    "fruits.append(\"grape\")\n",
    "\n",
    "print(fruits)"
   ]
  },
  {
   "cell_type": "code",
   "execution_count": null,
   "id": "0b93cf34-57d1-4d5c-bcd4-124db8a17cb4",
   "metadata": {},
   "outputs": [],
   "source": [
    "# Add items from a second list to the first list\n",
    "more_fruits = [\"honeydew\", \"imbe\", \"jackfruit\"]\n",
    "fruits.extend(more_fruits)\n",
    "\n",
    "print(fruits)"
   ]
  },
  {
   "cell_type": "code",
   "execution_count": null,
   "id": "2b60cd95-6541-450d-a512-2e1af26f7270",
   "metadata": {},
   "outputs": [],
   "source": [
    "# Many functions operate on collections\n",
    "# Assessing our wide receiving corp\n",
    "receiving_yards = [450, 370, 870, 150]\n",
    "\n",
    "mean_yards = sum(receiving_yards)/len(receiving_yards)\n",
    "print(mean_yards)"
   ]
  },
  {
   "cell_type": "markdown",
   "id": "57e3f223-fe18-4bd2-af96-d6a9b0f69218",
   "metadata": {},
   "source": [
    "# For loops"
   ]
  },
  {
   "cell_type": "code",
   "execution_count": null,
   "id": "26ea5d4b-3609-4eac-b603-78933b5f1279",
   "metadata": {},
   "outputs": [],
   "source": [
    "for fruit in fruits:\n",
    "    print(fruit)"
   ]
  },
  {
   "cell_type": "code",
   "execution_count": null,
   "id": "f25b5ce2-cb06-406c-bf40-29cdbdaadb7e",
   "metadata": {},
   "outputs": [],
   "source": [
    "for bob in fruits:\n",
    "    print(bob)"
   ]
  },
  {
   "cell_type": "code",
   "execution_count": null,
   "id": "f8340e99-191b-41f9-8385-7995667445ef",
   "metadata": {},
   "outputs": [],
   "source": [
    "# Code blockscan contain many statements\n",
    "primes = [2, 3, 5]\n",
    "for p in primes:\n",
    "    squared = p ** 2\n",
    "    cubed = p ** 3\n",
    "    print(p, squared, cubed)"
   ]
  },
  {
   "cell_type": "code",
   "execution_count": null,
   "id": "c5eae481-6d18-4d49-9536-7d85dd558027",
   "metadata": {},
   "outputs": [],
   "source": [
    "# Create a new collection from an existing collection\n",
    "primes_squared = []\n",
    "for p in primes:\n",
    "    primes_squared.append(p ** 2)\n",
    "    \n",
    "print(primes_squared)"
   ]
  },
  {
   "cell_type": "markdown",
   "id": "ef4fe2e8-0cf1-4fa1-a710-4f3ef00b7db6",
   "metadata": {},
   "source": [
    "## Challenge\n",
    "\n",
    "Get the total length of all the items in the fruits list."
   ]
  },
  {
   "cell_type": "code",
   "execution_count": null,
   "id": "99c913f7-00a6-48ea-ab59-f098276c71e9",
   "metadata": {},
   "outputs": [],
   "source": [
    "# My attempt until time went out\n",
    "# fruit_\n",
    "# for fruit in fruits:\n",
    "    # fruit_length = len(fruit)"
   ]
  },
  {
   "cell_type": "code",
   "execution_count": null,
   "id": "eb0bf187-5485-4724-8b69-7618b2b6b3c6",
   "metadata": {},
   "outputs": [],
   "source": [
    "# Solution 1\n",
    "fruit_lengths = []\n",
    "for f in fruits:\n",
    "    fruit_lengths.append(len(f))\n",
    "    \n",
    "print(fruit_lengths)\n",
    "print(sum(fruit_lengths))"
   ]
  },
  {
   "cell_type": "code",
   "execution_count": null,
   "id": "dabeca90-5c91-41a7-b2c9-2450e4a0debc",
   "metadata": {},
   "outputs": [],
   "source": [
    "# Solution 2\n",
    "count = 0\n",
    "for f in fruits: \n",
    "    count = count + len(f)\n",
    "    print(count)\n",
    "    \n",
    "print(\"Final count\", count)"
   ]
  },
  {
   "cell_type": "code",
   "execution_count": null,
   "id": "1aa67398-3733-4e17-b7c7-0608eba41f21",
   "metadata": {},
   "outputs": [],
   "source": [
    "# Generator comprehension\n",
    "sum(len(f) for f in fruits)"
   ]
  },
  {
   "cell_type": "code",
   "execution_count": null,
   "id": "f46ca944-b85a-4c10-a38e-14e825892861",
   "metadata": {},
   "outputs": [],
   "source": [
    "len(\"\".join(fruits))"
   ]
  },
  {
   "cell_type": "code",
   "execution_count": null,
   "id": "a41b6669-5eee-407d-bf0e-b82c0346fbcc",
   "metadata": {},
   "outputs": [],
   "source": [
    "print(\"  \".join(fruits))"
   ]
  },
  {
   "cell_type": "code",
   "execution_count": null,
   "id": "2fbef714-fc03-4b48-8efe-341bfdc1f93f",
   "metadata": {},
   "outputs": [],
   "source": [
    "# Text join\n",
    "joined_fruits = \"\".join(fruits)\n",
    "print(joined_fruits)\n",
    "print(len(joined_fruits))"
   ]
  },
  {
   "cell_type": "code",
   "execution_count": null,
   "id": "643221e0-f2a8-4288-92b3-9f9a8c849650",
   "metadata": {},
   "outputs": [],
   "source": []
  }
 ],
 "metadata": {
  "kernelspec": {
   "display_name": "Python 3",
   "language": "python",
   "name": "python3"
  },
  "language_info": {
   "codemirror_mode": {
    "name": "ipython",
    "version": 3
   },
   "file_extension": ".py",
   "mimetype": "text/x-python",
   "name": "python",
   "nbconvert_exporter": "python",
   "pygments_lexer": "ipython3",
   "version": "3.8.8"
  }
 },
 "nbformat": 4,
 "nbformat_minor": 5
}
